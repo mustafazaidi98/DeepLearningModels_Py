{
  "nbformat": 4,
  "nbformat_minor": 0,
  "metadata": {
    "colab": {
      "provenance": [],
      "collapsed_sections": []
    },
    "kernelspec": {
      "name": "python3",
      "display_name": "Python 3"
    },
    "language_info": {
      "name": "python"
    }
  },
  "cells": [
    {
      "cell_type": "code",
      "execution_count": 1,
      "metadata": {
        "id": "Bqf2t3aGG3Gb"
      },
      "outputs": [],
      "source": [
        "import numpy as np\n",
        "from keras.datasets import cifar10\n",
        "from keras import models\n",
        "from keras import layers\n",
        "from tensorflow.keras.utils import to_categorical\n",
        "import tensorflow as tf\n",
        "from keras.engine.training import optimizers\n",
        "from tensorflow.keras.models import Sequential\n",
        "from tensorflow.keras.layers import Dense, Dropout,Flatten,BatchNormalization,Activation,Conv2D,MaxPool2D\n",
        "from sklearn.model_selection import train_test_split\n",
        "from sklearn.preprocessing import LabelEncoder\n",
        "labelencoder = LabelEncoder()\n",
        "model = Sequential()\n",
        "import pandas as pd"
      ]
    },
    {
      "cell_type": "code",
      "source": [
        "def load_spam_data():\n",
        "  dataset = pd.read_csv('communities.data',header=None);\n",
        "  dataset.head()\n",
        "  # rename the result column name\n",
        "  dataset.rename(columns={127:'crimeRate'}, inplace=True)\n",
        "  # checking missing values of county column\n",
        "  counts = dataset[1].value_counts().to_dict()\n",
        "  # print (counts)\n",
        "  # adding a new county with code 100, which doesnt exist\n",
        "  dataset[1] = dataset[1].replace('?','100')\n",
        "  # we can delete the second column \n",
        "  # column 2 and 3 are same, 2 is the numeric representation of 3 so, we can convert it into numeric since 2 has alot of \n",
        "  # missing values\n",
        "  dataset.drop(dataset.columns[[2]], axis=1,inplace=True)\n",
        "  dataset[1] = dataset[1].astype(float)\n",
        "  def GetColumnAvg(colnum):\n",
        "      df = dataset[dataset[colnum] != '?']\n",
        "      df[colnum] = df[colnum].astype(float)\n",
        "      mean = df[colnum].mean()\n",
        "      dataset[colnum] = dataset[colnum].replace('?',mean)\n",
        "      dataset[colnum] = dataset[colnum].astype(float)\n",
        "  # 30, 101 till 117, 121 to 124,126\n",
        "  # we can see all this data is numeric and of nature that can be replaced by mean\n",
        "  # for example\n",
        "  # total requests for police \n",
        "  # police officers per 100K\n",
        "  # percent of police (By race)\n",
        "  # So, we replace them by avg of respective column\n",
        "  for x in range(101, 118):\n",
        "    GetColumnAvg(x)\n",
        "  GetColumnAvg(121)\n",
        "  GetColumnAvg(122)\n",
        "  GetColumnAvg(123)\n",
        "  GetColumnAvg(124)\n",
        "  GetColumnAvg(126)\n",
        "  GetColumnAvg(30)\n",
        "  dataset[3] = labelencoder.fit_transform(dataset[3])\n",
        "  x_train, x_test = train_test_split(dataset, train_size=0.6)\n",
        "  y_train = x_train.pop('crimeRate')\n",
        "  y_test = x_test.pop('crimeRate')\n",
        "  return x_train,y_train,x_test,y_test\n"
      ],
      "metadata": {
        "id": "X9NnvR-U8hjh"
      },
      "execution_count": 2,
      "outputs": []
    },
    {
      "cell_type": "code",
      "source": [
        "x_train,y_train,x_test,y_test = load_spam_data()\n",
        "# normalize \n",
        "allFeatures = x_train;\n",
        "allFeatures.append(x_test)\n",
        "mean = allFeatures.mean(axis = 0)\n",
        "std = allFeatures.std(axis=0)\n",
        "x_train = x_train -mean\n",
        "x_test = x_test-mean\n",
        "x_train = x_train/std\n",
        "x_test = x_test/std\n",
        "print(x_train.shape)"
      ],
      "metadata": {
        "colab": {
          "base_uri": "https://localhost:8080/"
        },
        "id": "kSfiSser-5fG",
        "outputId": "a1cb19c5-f34c-4035-d4f0-c090fecf046e"
      },
      "execution_count": 3,
      "outputs": [
        {
          "output_type": "stream",
          "name": "stdout",
          "text": [
            "(1196, 126)\n"
          ]
        },
        {
          "output_type": "stream",
          "name": "stderr",
          "text": [
            "/usr/local/lib/python3.7/dist-packages/ipykernel_launcher.py:18: SettingWithCopyWarning: \n",
            "A value is trying to be set on a copy of a slice from a DataFrame.\n",
            "Try using .loc[row_indexer,col_indexer] = value instead\n",
            "\n",
            "See the caveats in the documentation: https://pandas.pydata.org/pandas-docs/stable/user_guide/indexing.html#returning-a-view-versus-a-copy\n"
          ]
        }
      ]
    },
    {
      "cell_type": "code",
      "source": [
        "def GetCompiledModel():\n",
        "  model = models.Sequential()\n",
        "  model.add(layers.Dense(64,activation='relu',input_shape=(x_train.shape[1],)))\n",
        "  model.add(Dropout(0.2))\n",
        "  model.add(BatchNormalization())\n",
        "  model.add(layers.Dense(64,activation='relu'))\n",
        "  model.add(Dropout(0.2))\n",
        "  model.add(BatchNormalization())\n",
        "  model.add(layers.Dense(1))\n",
        "  model.compile(optimizer='rmsprop',loss='mse',metrics=['mae'])\n",
        "  return model"
      ],
      "metadata": {
        "id": "7TIv94KKRkt8"
      },
      "execution_count": 4,
      "outputs": []
    },
    {
      "cell_type": "code",
      "source": [
        "k = 7\n",
        "Epochs = 300\n",
        "FoldsScore = []\n",
        "FoldsMAE = []\n",
        "samplePerFold = len(x_train)//k\n",
        "for i in range(k):\n",
        "    print('Fold ',i)\n",
        "    val_data = x_train[i * samplePerFold: (i+1) * samplePerFold]\n",
        "    val_labels = y_train[i * samplePerFold: (i+1) * samplePerFold]\n",
        "    train_data = np.concatenate([x_train[:i * samplePerFold],x_train[(i+1) * samplePerFold:]],axis = 0)\n",
        "    train_labels = np.concatenate([y_train[:i*samplePerFold],y_train[(i+1)*samplePerFold:]],axis=0)\n",
        "    model = GetCompiledModel()\n",
        "    history = model.fit(train_data,train_labels,epochs=Epochs,batch_size=32,verbose=0)\n",
        "    test_mse_score,test_mae_score = model.evaluate(val_data,val_labels)\n",
        "    print(test_mae_score)\n",
        "    mae_history = history.history['mae']\n",
        "    FoldsMAE.append(mae_history)\n",
        "    # record validation set performace per fold\n",
        "    val_mse,val_mae = model.evaluate(val_data,val_labels,verbose=0)\n",
        "    FoldsScore.append(val_mae)\n",
        "average_mae_history = [np.mean([x[i] for x in FoldsMAE]) for i in range(Epochs)]"
      ],
      "metadata": {
        "colab": {
          "base_uri": "https://localhost:8080/"
        },
        "id": "gyXNxym2So3f",
        "outputId": "bb01ce26-2b16-4efe-f791-b31f0de6eea1"
      },
      "execution_count": 5,
      "outputs": [
        {
          "output_type": "stream",
          "name": "stdout",
          "text": [
            "Fold  0\n",
            "6/6 [==============================] - 0s 3ms/step - loss: 0.0239 - mae: 0.1049\n",
            "0.10492009669542313\n",
            "Fold  1\n",
            "6/6 [==============================] - 0s 3ms/step - loss: 0.0294 - mae: 0.1138\n",
            "0.1137658879160881\n",
            "Fold  2\n",
            "6/6 [==============================] - 0s 3ms/step - loss: 0.0170 - mae: 0.0886\n",
            "0.08860623836517334\n",
            "Fold  3\n",
            "6/6 [==============================] - 0s 3ms/step - loss: 0.0205 - mae: 0.0993\n",
            "0.09932903945446014\n",
            "Fold  4\n",
            "6/6 [==============================] - 0s 3ms/step - loss: 0.0232 - mae: 0.1037\n",
            "0.10368524491786957\n",
            "Fold  5\n",
            "6/6 [==============================] - 0s 3ms/step - loss: 0.0244 - mae: 0.0995\n",
            "0.0994618609547615\n",
            "Fold  6\n",
            "6/6 [==============================] - 0s 3ms/step - loss: 0.0319 - mae: 0.1145\n",
            "0.11451437324285507\n"
          ]
        }
      ]
    },
    {
      "cell_type": "code",
      "source": [
        "import matplotlib.pyplot as plt\n",
        "plt.plot(range(1,len(average_mae_history)+1),average_mae_history)\n",
        "plt.xlabel('Epochs')\n",
        "plt.ylabel('Validation MAE')\n",
        "plt.show()"
      ],
      "metadata": {
        "colab": {
          "base_uri": "https://localhost:8080/",
          "height": 279
        },
        "id": "9W-3nDnuXYu4",
        "outputId": "1839aa97-e23b-4c18-ff13-feb483647cff"
      },
      "execution_count": null,
      "outputs": [
        {
          "output_type": "display_data",
          "data": {
            "text/plain": [
              "<Figure size 432x288 with 1 Axes>"
            ],
            "image/png": "[encoded data removed]"
          },
          "metadata": {
            "needs_background": "light"
          }
        }
      ]
    },
    {
      "cell_type": "code",
      "source": [
        "model = GetCompiledModel()\n",
        "model.fit(x_train,y_train,epochs=40,batch_size=32)"
      ],
      "metadata": {
        "colab": {
          "base_uri": "https://localhost:8080/"
        },
        "id": "Yl8VgBBFYD_P",
        "outputId": "785c57b4-af64-4ec3-eeda-9164ead7e378"
      },
      "execution_count": null,
      "outputs": [
        {
          "output_type": "stream",
          "name": "stdout",
          "text": [
            "Epoch 1/40\n",
            "32/32 [==============================] - 1s 2ms/step - loss: 1.3406 - mae: 0.9030\n",
            "Epoch 2/40\n",
            "32/32 [==============================] - 0s 3ms/step - loss: 0.8167 - mae: 0.7091\n",
            "Epoch 3/40\n",
            "32/32 [==============================] - 0s 3ms/step - loss: 0.7129 - mae: 0.6623\n",
            "Epoch 4/40\n",
            "32/32 [==============================] - 0s 2ms/step - loss: 0.5617 - mae: 0.5779\n",
            "Epoch 5/40\n",
            "32/32 [==============================] - 0s 2ms/step - loss: 0.4429 - mae: 0.5165\n",
            "Epoch 6/40\n",
            "32/32 [==============================] - 0s 2ms/step - loss: 0.3598 - mae: 0.4773\n",
            "Epoch 7/40\n",
            "32/32 [==============================] - 0s 3ms/step - loss: 0.3102 - mae: 0.4268\n",
            "Epoch 8/40\n",
            "32/32 [==============================] - 0s 2ms/step - loss: 0.2522 - mae: 0.3854\n",
            "Epoch 9/40\n",
            "32/32 [==============================] - 0s 2ms/step - loss: 0.2171 - mae: 0.3601\n",
            "Epoch 10/40\n",
            "32/32 [==============================] - 0s 2ms/step - loss: 0.1877 - mae: 0.3329\n",
            "Epoch 11/40\n",
            "32/32 [==============================] - 0s 2ms/step - loss: 0.1519 - mae: 0.2938\n",
            "Epoch 12/40\n",
            "32/32 [==============================] - 0s 3ms/step - loss: 0.1197 - mae: 0.2652\n",
            "Epoch 13/40\n",
            "32/32 [==============================] - 0s 3ms/step - loss: 0.0872 - mae: 0.2261\n",
            "Epoch 14/40\n",
            "32/32 [==============================] - 0s 2ms/step - loss: 0.0684 - mae: 0.1987\n",
            "Epoch 15/40\n",
            "32/32 [==============================] - 0s 2ms/step - loss: 0.0668 - mae: 0.1961\n",
            "Epoch 16/40\n",
            "32/32 [==============================] - 0s 2ms/step - loss: 0.0561 - mae: 0.1757\n",
            "Epoch 17/40\n",
            "32/32 [==============================] - 0s 2ms/step - loss: 0.0484 - mae: 0.1634\n",
            "Epoch 18/40\n",
            "32/32 [==============================] - 0s 3ms/step - loss: 0.0401 - mae: 0.1489\n",
            "Epoch 19/40\n",
            "32/32 [==============================] - 0s 2ms/step - loss: 0.0348 - mae: 0.1395\n",
            "Epoch 20/40\n",
            "32/32 [==============================] - 0s 2ms/step - loss: 0.0304 - mae: 0.1283\n",
            "Epoch 21/40\n",
            "32/32 [==============================] - 0s 2ms/step - loss: 0.0276 - mae: 0.1234\n",
            "Epoch 22/40\n",
            "32/32 [==============================] - 0s 2ms/step - loss: 0.0288 - mae: 0.1237\n",
            "Epoch 23/40\n",
            "32/32 [==============================] - 0s 2ms/step - loss: 0.0222 - mae: 0.1079\n",
            "Epoch 24/40\n",
            "32/32 [==============================] - 0s 2ms/step - loss: 0.0246 - mae: 0.1135\n",
            "Epoch 25/40\n",
            "32/32 [==============================] - 0s 2ms/step - loss: 0.0225 - mae: 0.1075\n",
            "Epoch 26/40\n",
            "32/32 [==============================] - 0s 3ms/step - loss: 0.0226 - mae: 0.1095\n",
            "Epoch 27/40\n",
            "32/32 [==============================] - 0s 2ms/step - loss: 0.0202 - mae: 0.1036\n",
            "Epoch 28/40\n",
            "32/32 [==============================] - 0s 2ms/step - loss: 0.0204 - mae: 0.1027\n",
            "Epoch 29/40\n",
            "32/32 [==============================] - 0s 2ms/step - loss: 0.0209 - mae: 0.1022\n",
            "Epoch 30/40\n",
            "32/32 [==============================] - 0s 3ms/step - loss: 0.0209 - mae: 0.1030\n",
            "Epoch 31/40\n",
            "32/32 [==============================] - 0s 3ms/step - loss: 0.0181 - mae: 0.0971\n",
            "Epoch 32/40\n",
            "32/32 [==============================] - 0s 2ms/step - loss: 0.0194 - mae: 0.0991\n",
            "Epoch 33/40\n",
            "32/32 [==============================] - 0s 2ms/step - loss: 0.0185 - mae: 0.0954\n",
            "Epoch 34/40\n",
            "32/32 [==============================] - 0s 2ms/step - loss: 0.0185 - mae: 0.0990\n",
            "Epoch 35/40\n",
            "32/32 [==============================] - 0s 2ms/step - loss: 0.0172 - mae: 0.0931\n",
            "Epoch 36/40\n",
            "32/32 [==============================] - 0s 2ms/step - loss: 0.0182 - mae: 0.0937\n",
            "Epoch 37/40\n",
            "32/32 [==============================] - 0s 2ms/step - loss: 0.0184 - mae: 0.0964\n",
            "Epoch 38/40\n",
            "32/32 [==============================] - 0s 2ms/step - loss: 0.0189 - mae: 0.0987\n",
            "Epoch 39/40\n",
            "32/32 [==============================] - 0s 2ms/step - loss: 0.0165 - mae: 0.0920\n",
            "Epoch 40/40\n",
            "32/32 [==============================] - 0s 2ms/step - loss: 0.0184 - mae: 0.0972\n"
          ]
        },
        {
          "output_type": "execute_result",
          "data": {
            "text/plain": [
              "<keras.callbacks.History at 0x7f4a5133fb50>"
            ]
          },
          "metadata": {},
          "execution_count": 18
        }
      ]
    },
    {
      "cell_type": "code",
      "source": [
        "test_mse_score,test_mae_score = model.evaluate(x_test,y_test)\n",
        "print (test_mse_score)\n",
        "print(test_mae_score)\n",
        "model.save(\"model3.hdf5\")"
      ],
      "metadata": {
        "colab": {
          "base_uri": "https://localhost:8080/"
        },
        "id": "U3JhkJ-1YklY",
        "outputId": "5a149f71-ee32-4429-fddf-c057f64dd342"
      },
      "execution_count": null,
      "outputs": [
        {
          "output_type": "stream",
          "name": "stdout",
          "text": [
            "25/25 [==============================] - 0s 2ms/step - loss: 0.0192 - mae: 0.0972\n",
            "0.019162675365805626\n",
            "0.09717722982168198\n"
          ]
        }
      ]
    }
  ]
}