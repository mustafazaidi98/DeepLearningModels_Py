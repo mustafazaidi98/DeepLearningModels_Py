{
  "nbformat": 4,
  "nbformat_minor": 0,
  "metadata": {
    "colab": {
      "provenance": [],
      "collapsed_sections": []
    },
    "kernelspec": {
      "name": "python3",
      "display_name": "Python 3"
    },
    "language_info": {
      "name": "python"
    }
  },
  "cells": [
    {
      "cell_type": "code",
      "execution_count": 28,
      "metadata": {
        "id": "Gqfs-KxyTqx3"
      },
      "outputs": [],
      "source": [
        "from sklearn.model_selection import train_test_split\n",
        "from sklearn.naive_bayes import MultinomialNB\n",
        "import pandas as pd\n",
        "import numpy\n",
        "dataset = pd.read_csv('spambase.data');\n",
        "dataset.head()\n",
        "\n",
        "%matplotlib inline"
      ]
    },
    {
      "cell_type": "code",
      "source": [
        "def load_spam_data():\n",
        "  data = pd.read_csv('spambase.data', header=None)\n",
        "  data = data.replace(\"?\",numpy.NAN)\n",
        "  data.rename(columns={57:'is_spam'}, inplace=True)\n",
        "  spam = data[data['is_spam'] == 1]\n",
        "  notSpam = data[data['is_spam'] == 0]\n",
        "  spam_train, spam_test = train_test_split(spam, train_size=0.6)\n",
        "  notSpam_train, notSpam_test = train_test_split(notSpam, train_size=0.6)\n",
        "  X_train = notSpam_train.append(spam_train)\n",
        "  y_train = X_train.pop('is_spam')\n",
        "  X_test = notSpam_test.append(spam_test)\n",
        "  y_test = X_test.pop('is_spam')\n",
        "  return X_train,y_train,X_test,y_test"
      ],
      "metadata": {
        "id": "RI1RGIb610ug"
      },
      "execution_count": 29,
      "outputs": []
    },
    {
      "cell_type": "code",
      "source": [
        "x_train,y_train,x_test,y_test = load_spam_data()"
      ],
      "metadata": {
        "id": "lBZGFSkD2Aw5"
      },
      "execution_count": 30,
      "outputs": []
    },
    {
      "cell_type": "code",
      "source": [
        "# normalizing\n",
        "allFeatures = x_train;\n",
        "allFeatures.append(x_test)\n",
        "mean = allFeatures.mean(axis = 0)\n",
        "std = allFeatures.std(axis=0)\n",
        "x_train = x_train -mean\n",
        "x_test = x_test-mean\n",
        "x_train = x_train/std\n",
        "x_test = x_test/std\n",
        "print(x_train.shape)\n",
        "x_val = x_train[:400]\n",
        "x_train = x_train[400:]\n",
        "y_val = y_train[:400]\n",
        "y_train = y_train[400:]"
      ],
      "metadata": {
        "colab": {
          "base_uri": "https://localhost:8080/"
        },
        "id": "50DveWfL2JIC",
        "outputId": "0ec1b92e-db41-4f69-cb71-8eb5b9e1bc65"
      },
      "execution_count": 31,
      "outputs": [
        {
          "output_type": "stream",
          "name": "stdout",
          "text": [
            "(2759, 57)\n"
          ]
        }
      ]
    },
    {
      "cell_type": "code",
      "source": [
        "from keras.engine.training import optimizers\n",
        "from tensorflow.keras.models import Sequential\n",
        "from tensorflow.keras.layers import Dense, Dropout,Flatten,BatchNormalization,Activation,Conv2D,MaxPool2D\n",
        "model = Sequential()\n",
        "model.add(Dense(16, input_shape=(x_train.shape[1],), activation='relu'))\n",
        "model.add(Dropout(0.2))\n",
        "model.add(BatchNormalization())\n",
        "model.add(Dense(16,activation='relu'))\n",
        "model.add(Dropout(0.2))\n",
        "model.add(BatchNormalization())\n",
        "model.add(Dense(1, activation='sigmoid'))\n",
        "# Compile model\n",
        "model.compile(loss='binary_crossentropy', optimizer='adam', metrics=['accuracy'])"
      ],
      "metadata": {
        "id": "7uycabSv2PRK"
      },
      "execution_count": 32,
      "outputs": []
    },
    {
      "cell_type": "code",
      "source": [
        "model.fit(x_train,y_train,validation_data=(x_val,y_val),epochs=40,batch_size=64)"
      ],
      "metadata": {
        "colab": {
          "base_uri": "https://localhost:8080/"
        },
        "id": "7fpesg4f2Um7",
        "outputId": "ebbe525a-f097-4bde-c2c5-190f1111a515"
      },
      "execution_count": 33,
      "outputs": [
        {
          "output_type": "stream",
          "name": "stdout",
          "text": [
            "Epoch 1/40\n",
            "37/37 [==============================] - 1s 9ms/step - loss: 0.7810 - accuracy: 0.5337 - val_loss: 0.5092 - val_accuracy: 0.9000\n",
            "Epoch 2/40\n",
            "37/37 [==============================] - 0s 4ms/step - loss: 0.5995 - accuracy: 0.6689 - val_loss: 0.4614 - val_accuracy: 0.9000\n",
            "Epoch 3/40\n",
            "37/37 [==============================] - 0s 4ms/step - loss: 0.5162 - accuracy: 0.7563 - val_loss: 0.4049 - val_accuracy: 0.8925\n",
            "Epoch 4/40\n",
            "37/37 [==============================] - 0s 3ms/step - loss: 0.4478 - accuracy: 0.8050 - val_loss: 0.3741 - val_accuracy: 0.8750\n",
            "Epoch 5/40\n",
            "37/37 [==============================] - 0s 4ms/step - loss: 0.4041 - accuracy: 0.8304 - val_loss: 0.3417 - val_accuracy: 0.8900\n",
            "Epoch 6/40\n",
            "37/37 [==============================] - 0s 4ms/step - loss: 0.3761 - accuracy: 0.8457 - val_loss: 0.3141 - val_accuracy: 0.8950\n",
            "Epoch 7/40\n",
            "37/37 [==============================] - 0s 4ms/step - loss: 0.3384 - accuracy: 0.8669 - val_loss: 0.2913 - val_accuracy: 0.9000\n",
            "Epoch 8/40\n",
            "37/37 [==============================] - 0s 3ms/step - loss: 0.3167 - accuracy: 0.8749 - val_loss: 0.2710 - val_accuracy: 0.9150\n",
            "Epoch 9/40\n",
            "37/37 [==============================] - 0s 4ms/step - loss: 0.2949 - accuracy: 0.8864 - val_loss: 0.2636 - val_accuracy: 0.9125\n",
            "Epoch 10/40\n",
            "37/37 [==============================] - 0s 4ms/step - loss: 0.2755 - accuracy: 0.8978 - val_loss: 0.2623 - val_accuracy: 0.9125\n",
            "Epoch 11/40\n",
            "37/37 [==============================] - 0s 3ms/step - loss: 0.2737 - accuracy: 0.9033 - val_loss: 0.2557 - val_accuracy: 0.9175\n",
            "Epoch 12/40\n",
            "37/37 [==============================] - 0s 3ms/step - loss: 0.2624 - accuracy: 0.9042 - val_loss: 0.2437 - val_accuracy: 0.9225\n",
            "Epoch 13/40\n",
            "37/37 [==============================] - 0s 4ms/step - loss: 0.2549 - accuracy: 0.9114 - val_loss: 0.2251 - val_accuracy: 0.9350\n",
            "Epoch 14/40\n",
            "37/37 [==============================] - 0s 3ms/step - loss: 0.2545 - accuracy: 0.9059 - val_loss: 0.2270 - val_accuracy: 0.9300\n",
            "Epoch 15/40\n",
            "37/37 [==============================] - 0s 4ms/step - loss: 0.2509 - accuracy: 0.9080 - val_loss: 0.2314 - val_accuracy: 0.9275\n",
            "Epoch 16/40\n",
            "37/37 [==============================] - 0s 4ms/step - loss: 0.2304 - accuracy: 0.9195 - val_loss: 0.2179 - val_accuracy: 0.9325\n",
            "Epoch 17/40\n",
            "37/37 [==============================] - 0s 4ms/step - loss: 0.2155 - accuracy: 0.9250 - val_loss: 0.2166 - val_accuracy: 0.9300\n",
            "Epoch 18/40\n",
            "37/37 [==============================] - 0s 3ms/step - loss: 0.2320 - accuracy: 0.9165 - val_loss: 0.2117 - val_accuracy: 0.9350\n",
            "Epoch 19/40\n",
            "37/37 [==============================] - 0s 3ms/step - loss: 0.2229 - accuracy: 0.9195 - val_loss: 0.1947 - val_accuracy: 0.9375\n",
            "Epoch 20/40\n",
            "37/37 [==============================] - 0s 4ms/step - loss: 0.2160 - accuracy: 0.9186 - val_loss: 0.1951 - val_accuracy: 0.9375\n",
            "Epoch 21/40\n",
            "37/37 [==============================] - 0s 4ms/step - loss: 0.2294 - accuracy: 0.9156 - val_loss: 0.1883 - val_accuracy: 0.9375\n",
            "Epoch 22/40\n",
            "37/37 [==============================] - 0s 4ms/step - loss: 0.2085 - accuracy: 0.9279 - val_loss: 0.1984 - val_accuracy: 0.9375\n",
            "Epoch 23/40\n",
            "37/37 [==============================] - 0s 4ms/step - loss: 0.2146 - accuracy: 0.9271 - val_loss: 0.2044 - val_accuracy: 0.9375\n",
            "Epoch 24/40\n",
            "37/37 [==============================] - 0s 4ms/step - loss: 0.2086 - accuracy: 0.9224 - val_loss: 0.1809 - val_accuracy: 0.9425\n",
            "Epoch 25/40\n",
            "37/37 [==============================] - 0s 4ms/step - loss: 0.2180 - accuracy: 0.9190 - val_loss: 0.1882 - val_accuracy: 0.9375\n",
            "Epoch 26/40\n",
            "37/37 [==============================] - 0s 4ms/step - loss: 0.1945 - accuracy: 0.9275 - val_loss: 0.1917 - val_accuracy: 0.9375\n",
            "Epoch 27/40\n",
            "37/37 [==============================] - 0s 3ms/step - loss: 0.1920 - accuracy: 0.9356 - val_loss: 0.1948 - val_accuracy: 0.9375\n",
            "Epoch 28/40\n",
            "37/37 [==============================] - 0s 4ms/step - loss: 0.1952 - accuracy: 0.9318 - val_loss: 0.1848 - val_accuracy: 0.9425\n",
            "Epoch 29/40\n",
            "37/37 [==============================] - 0s 4ms/step - loss: 0.1938 - accuracy: 0.9305 - val_loss: 0.1839 - val_accuracy: 0.9425\n",
            "Epoch 30/40\n",
            "37/37 [==============================] - 0s 4ms/step - loss: 0.1899 - accuracy: 0.9313 - val_loss: 0.1829 - val_accuracy: 0.9400\n",
            "Epoch 31/40\n",
            "37/37 [==============================] - 0s 4ms/step - loss: 0.1828 - accuracy: 0.9356 - val_loss: 0.1896 - val_accuracy: 0.9350\n",
            "Epoch 32/40\n",
            "37/37 [==============================] - 0s 4ms/step - loss: 0.1830 - accuracy: 0.9334 - val_loss: 0.1831 - val_accuracy: 0.9425\n",
            "Epoch 33/40\n",
            "37/37 [==============================] - 0s 4ms/step - loss: 0.1920 - accuracy: 0.9271 - val_loss: 0.1699 - val_accuracy: 0.9500\n",
            "Epoch 34/40\n",
            "37/37 [==============================] - 0s 4ms/step - loss: 0.1762 - accuracy: 0.9343 - val_loss: 0.1785 - val_accuracy: 0.9450\n",
            "Epoch 35/40\n",
            "37/37 [==============================] - 0s 3ms/step - loss: 0.1939 - accuracy: 0.9292 - val_loss: 0.1814 - val_accuracy: 0.9425\n",
            "Epoch 36/40\n",
            "37/37 [==============================] - 0s 4ms/step - loss: 0.1766 - accuracy: 0.9351 - val_loss: 0.1723 - val_accuracy: 0.9450\n",
            "Epoch 37/40\n",
            "37/37 [==============================] - 0s 4ms/step - loss: 0.1734 - accuracy: 0.9368 - val_loss: 0.1791 - val_accuracy: 0.9425\n",
            "Epoch 38/40\n",
            "37/37 [==============================] - 0s 4ms/step - loss: 0.1702 - accuracy: 0.9419 - val_loss: 0.1869 - val_accuracy: 0.9475\n",
            "Epoch 39/40\n",
            "37/37 [==============================] - 0s 4ms/step - loss: 0.1788 - accuracy: 0.9343 - val_loss: 0.1898 - val_accuracy: 0.9450\n",
            "Epoch 40/40\n",
            "37/37 [==============================] - 0s 4ms/step - loss: 0.1812 - accuracy: 0.9305 - val_loss: 0.1671 - val_accuracy: 0.9550\n"
          ]
        },
        {
          "output_type": "execute_result",
          "data": {
            "text/plain": [
              "<keras.callbacks.History at 0x7fcfad0e5a90>"
            ]
          },
          "metadata": {},
          "execution_count": 33
        }
      ]
    },
    {
      "cell_type": "code",
      "source": [
        "import matplotlib.pyplot as plt\n",
        "history = model.history\n",
        "print(history)\n",
        "plt.plot(history.history['accuracy'])\n",
        "plt.plot(history.history['val_accuracy'])\n",
        "plt.title('model accuracy')\n",
        "plt.ylabel('accuracy')\n",
        "plt.xlabel('epoch')\n",
        "plt.legend(['train', 'validation'], loc='upper left')\n",
        "plt.show()\n",
        "# summarize history for loss\n",
        "plt.plot(history.history['loss'])\n",
        "plt.plot(history.history['val_loss'])\n",
        "plt.title('model loss')\n",
        "plt.ylabel('loss')\n",
        "plt.xlabel('epoch')\n",
        "plt.legend(['train', 'Validation'], loc='upper left')\n",
        "plt.show()"
      ],
      "metadata": {
        "colab": {
          "base_uri": "https://localhost:8080/",
          "height": 590
        },
        "id": "IkJNiUbx2YsE",
        "outputId": "7291b8ae-70d5-40ea-ca5d-e5fdcd9dfef4"
      },
      "execution_count": 35,
      "outputs": [
        {
          "output_type": "stream",
          "name": "stdout",
          "text": [
            "<keras.callbacks.History object at 0x7fcfad0e5a90>\n"
          ]
        },
        {
          "output_type": "display_data",
          "data": {
            "text/plain": [
              "<Figure size 432x288 with 1 Axes>"
            ],
            "image/png": "[encoded data removed]"
          },
          "metadata": {
            "needs_background": "light"
          }
        },
        {
          "output_type": "display_data",
          "data": {
            "text/plain": [
              "<Figure size 432x288 with 1 Axes>"
            ],
            "image/png": "[encoded data removed]"
          },
          "metadata": {
            "needs_background": "light"
          }
        }
      ]
    },
    {
      "cell_type": "code",
      "source": [
        "model.save('model2.hdf5')"
      ],
      "metadata": {
        "id": "nt6GrOUSdbON"
      },
      "execution_count": 15,
      "outputs": []
    },
    {
      "cell_type": "code",
      "source": [
        "model.load_weights('model2.hdf5')\n",
        "from sklearn.metrics import confusion_matrix\n",
        "y_predictions = model.predict(x_test)\n",
        "y_predictions = numpy.round(y_predictions)\n",
        "TN, FP, FN, TP = confusion_matrix(y_test, y_predictions).ravel()\n",
        "print('True Positive(TP)  = ', TP)\n",
        "print('False Positive(FP) = ', FP)\n",
        "print('True Negative(TN)  = ', TN)\n",
        "print('False Negative(FN) = ', FN)\n",
        "accuracy  = (TP+TN)/(TP+TN+FP+FN)*100\n",
        "print(\"Accuracy Of The Model = \",accuracy)"
      ],
      "metadata": {
        "colab": {
          "base_uri": "https://localhost:8080/"
        },
        "id": "RPEml7lgRZfG",
        "outputId": "cfa182fd-7e67-4906-e543-14fc546ebd82"
      },
      "execution_count": 49,
      "outputs": [
        {
          "output_type": "stream",
          "name": "stdout",
          "text": [
            "True Positive(TP)  =  662\n",
            "False Positive(FP) =  57\n",
            "True Negative(TN)  =  1059\n",
            "False Negative(FN) =  64\n",
            "Accuracy Of The Model =  93.43105320304016\n"
          ]
        }
      ]
    }
  ]
}