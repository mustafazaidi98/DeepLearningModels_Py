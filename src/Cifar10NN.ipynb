{
  "nbformat": 4,
  "nbformat_minor": 0,
  "metadata": {
    "colab": {
      "provenance": [],
      "collapsed_sections": []
    },
    "kernelspec": {
      "name": "python3",
      "display_name": "Python 3"
    },
    "language_info": {
      "name": "python"
    }
  },
  "cells": [
    {
      "cell_type": "code",
      "execution_count": 3,
      "metadata": {
        "colab": {
          "base_uri": "https://localhost:8080/"
        },
        "id": "bmlKQXlesk73",
        "outputId": "ea3c94d5-a062-427c-e9a1-dbad496f8dbb"
      },
      "outputs": [
        {
          "output_type": "stream",
          "name": "stdout",
          "text": [
            "Training Dataset Size:  (50000, 32, 32, 3)\n",
            "Training Labels Size:  (50000, 1)\n",
            "Testing Dataset Size:  (10000, 32, 32, 3)\n",
            "Testing Labels Size:  (10000, 1)\n",
            "After Selecting three classes\n",
            "Training Dataset Size:  (15000, 32, 32, 3)\n",
            "Training Labels Size:  (15000, 1)\n",
            "Testing Dataset Size:  (10000, 32, 32, 3)\n",
            "Testing Labels Size:  (10000, 1)\n"
          ]
        }
      ],
      "source": [
        "import numpy as np\n",
        "from keras.datasets import cifar10\n",
        "from keras import models\n",
        "from keras import layers\n",
        "from keras.layers import Flatten,Dense\n",
        "from tensorflow.keras.utils import to_categorical\n",
        "import tensorflow as tf\n",
        "\n",
        "# Load Datset\n",
        "(x_train, y_train), (x_test, y_test) = cifar10.load_data()\n",
        "print(\"Training Dataset Size: \", x_train.shape)\n",
        "print(\"Training Labels Size: \", y_train.shape)\n",
        "print(\"Testing Dataset Size: \", x_test.shape)\n",
        "print(\"Testing Labels Size: \", y_test.shape)\n",
        "\n",
        "# Taking only 3 classes i.e 0,1,2\n",
        "x_train = x_train[np.where(y_train[:,0]<3)[0],:]\n",
        "y_train = y_train[np.where(y_train[:,0]<3)[0],:]\n",
        "x_val = x_test[np.where(y_test[:,0]<3)[0],:]\n",
        "y_val = y_test[np.where(y_test[:,0]<3)[0],:]\n",
        "\n",
        "print(\"After Selecting three classes\")\n",
        "\n",
        "# The size of the dataset in minimized\n",
        "print(\"Training Dataset Size: \", x_train.shape)\n",
        "print(\"Training Labels Size: \", y_train.shape)\n",
        "print(\"Testing Dataset Size: \", x_test.shape)\n",
        "print(\"Testing Labels Size: \", y_test.shape)\n",
        "\n",
        "# One hot encoding\n",
        "y_train = to_categorical(y_train)\n",
        "y_test = to_categorical(y_test)\n",
        "\n",
        "# normalize images to range 0-1\n",
        "x_train = x_train.astype('float32')\n",
        "x_test = x_test.astype('float32')\n",
        "x_train = x_train / 255.0\n",
        "val_norm = x_test / 255.0\n",
        "\n",
        "# train data set into train + validation set\n",
        "x_val = x_train[:2000]\n",
        "x_train = x_train[2000:]\n",
        "y_val = y_train[:2000]\n",
        "y_train = y_train[2000:]"
      ]
    },
    {
      "cell_type": "code",
      "source": [
        "from keras.engine.training import optimizers\n",
        "from tensorflow.keras.models import Sequential\n",
        "from tensorflow.keras.layers import Dense, Dropout,Flatten,BatchNormalization,Activation,Conv2D,MaxPool2D\n",
        "model2 = Sequential()\n",
        "model2.add(Conv2D(32,(3,3),input_shape=x_train.shape[1:],padding='same'))\n",
        "model2.add(Activation('relu'))\n",
        "model2.add(Dropout(0.2))\n",
        "model2.add(BatchNormalization())\n",
        "\n",
        "model2.add(Conv2D(64,(3,3),padding='same'))\n",
        "model2.add(Activation('relu'))\n",
        "model2.add(MaxPool2D(pool_size=(2,2)))\n",
        "model2.add(Dropout(0.2))\n",
        "model2.add(BatchNormalization())\n",
        "\n",
        "model2.add(Conv2D(64,(3,3),padding='same'))\n",
        "model2.add(Activation('relu'))\n",
        "model2.add(MaxPool2D(pool_size=(2,2)))\n",
        "model2.add(Dropout(0.2))\n",
        "model2.add(BatchNormalization())\n",
        "\n",
        "model2.add(Conv2D(64,(3,3),padding='same'))\n",
        "model2.add(Activation('relu'))\n",
        "model2.add(Dropout(0.2))\n",
        "model2.add(BatchNormalization())\n",
        "\n",
        "\n",
        "model2.add(Flatten())\n",
        "model2.add(Dropout(0.2))\n",
        "\n",
        "model2.add(Dense(256,kernel_constraint=tf.keras.constraints.max_norm(3)))\n",
        "model2.add(Activation('relu'))\n",
        "model2.add(Dropout(0.2))\n",
        "model2.add(BatchNormalization())\n",
        "\n",
        "model2.add(Dense(128,kernel_constraint=tf.keras.constraints.max_norm(3)))\n",
        "model2.add(Activation('relu'))\n",
        "model2.add(Dropout(0.2))\n",
        "model2.add(BatchNormalization())\n",
        "\n",
        "model2.add(Dense(3))\n",
        "model2.add(Activation('softmax'))\n",
        "\n",
        "op = 'adam'\n",
        "model2.compile(loss='categorical_crossentropy',metrics=['accuracy'])\n",
        "print(model2.summary())"
      ],
      "metadata": {
        "colab": {
          "base_uri": "https://localhost:8080/"
        },
        "id": "VzvTcNwGYGlB",
        "outputId": "ea0fc9cb-ee57-4215-a074-be4e0e2b4d4f"
      },
      "execution_count": 5,
      "outputs": [
        {
          "output_type": "stream",
          "name": "stdout",
          "text": [
            "Model: \"sequential_1\"\n",
            "_________________________________________________________________\n",
            " Layer (type)                Output Shape              Param #   \n",
            "=================================================================\n",
            " conv2d (Conv2D)             (None, 32, 32, 32)        896       \n",
            "                                                                 \n",
            " activation (Activation)     (None, 32, 32, 32)        0         \n",
            "                                                                 \n",
            " dropout (Dropout)           (None, 32, 32, 32)        0         \n",
            "                                                                 \n",
            " batch_normalization (BatchN  (None, 32, 32, 32)       128       \n",
            " ormalization)                                                   \n",
            "                                                                 \n",
            " conv2d_1 (Conv2D)           (None, 32, 32, 64)        18496     \n",
            "                                                                 \n",
            " activation_1 (Activation)   (None, 32, 32, 64)        0         \n",
            "                                                                 \n",
            " max_pooling2d (MaxPooling2D  (None, 16, 16, 64)       0         \n",
            " )                                                               \n",
            "                                                                 \n",
            " dropout_1 (Dropout)         (None, 16, 16, 64)        0         \n",
            "                                                                 \n",
            " batch_normalization_1 (Batc  (None, 16, 16, 64)       256       \n",
            " hNormalization)                                                 \n",
            "                                                                 \n",
            " conv2d_2 (Conv2D)           (None, 16, 16, 64)        36928     \n",
            "                                                                 \n",
            " activation_2 (Activation)   (None, 16, 16, 64)        0         \n",
            "                                                                 \n",
            " max_pooling2d_1 (MaxPooling  (None, 8, 8, 64)         0         \n",
            " 2D)                                                             \n",
            "                                                                 \n",
            " dropout_2 (Dropout)         (None, 8, 8, 64)          0         \n",
            "                                                                 \n",
            " batch_normalization_2 (Batc  (None, 8, 8, 64)         256       \n",
            " hNormalization)                                                 \n",
            "                                                                 \n",
            " conv2d_3 (Conv2D)           (None, 8, 8, 64)          36928     \n",
            "                                                                 \n",
            " activation_3 (Activation)   (None, 8, 8, 64)          0         \n",
            "                                                                 \n",
            " dropout_3 (Dropout)         (None, 8, 8, 64)          0         \n",
            "                                                                 \n",
            " batch_normalization_3 (Batc  (None, 8, 8, 64)         256       \n",
            " hNormalization)                                                 \n",
            "                                                                 \n",
            " flatten (Flatten)           (None, 4096)              0         \n",
            "                                                                 \n",
            " dropout_4 (Dropout)         (None, 4096)              0         \n",
            "                                                                 \n",
            " dense (Dense)               (None, 256)               1048832   \n",
            "                                                                 \n",
            " activation_4 (Activation)   (None, 256)               0         \n",
            "                                                                 \n",
            " dropout_5 (Dropout)         (None, 256)               0         \n",
            "                                                                 \n",
            " batch_normalization_4 (Batc  (None, 256)              1024      \n",
            " hNormalization)                                                 \n",
            "                                                                 \n",
            " dense_1 (Dense)             (None, 128)               32896     \n",
            "                                                                 \n",
            " activation_5 (Activation)   (None, 128)               0         \n",
            "                                                                 \n",
            " dropout_6 (Dropout)         (None, 128)               0         \n",
            "                                                                 \n",
            " batch_normalization_5 (Batc  (None, 128)              512       \n",
            " hNormalization)                                                 \n",
            "                                                                 \n",
            " dense_2 (Dense)             (None, 3)                 387       \n",
            "                                                                 \n",
            " activation_6 (Activation)   (None, 3)                 0         \n",
            "                                                                 \n",
            "=================================================================\n",
            "Total params: 1,177,795\n",
            "Trainable params: 1,176,579\n",
            "Non-trainable params: 1,216\n",
            "_________________________________________________________________\n",
            "None\n"
          ]
        }
      ]
    },
    {
      "cell_type": "code",
      "source": [
        "model2.fit(x_train,y_train,validation_data=(x_val,y_val),epochs=20,batch_size=64)"
      ],
      "metadata": {
        "colab": {
          "base_uri": "https://localhost:8080/"
        },
        "id": "5sfYLmFu9gty",
        "outputId": "620c9a1e-a268-4519-a266-d9b01139511f"
      },
      "execution_count": 6,
      "outputs": [
        {
          "output_type": "stream",
          "name": "stdout",
          "text": [
            "Epoch 1/20\n",
            "204/204 [==============================] - 102s 490ms/step - loss: 0.6659 - accuracy: 0.7383 - val_loss: 3.6378 - val_accuracy: 0.3390\n",
            "Epoch 2/20\n",
            "204/204 [==============================] - 98s 481ms/step - loss: 0.4298 - accuracy: 0.8312 - val_loss: 1.1878 - val_accuracy: 0.6260\n",
            "Epoch 3/20\n",
            "204/204 [==============================] - 96s 472ms/step - loss: 0.3405 - accuracy: 0.8669 - val_loss: 0.7328 - val_accuracy: 0.7350\n",
            "Epoch 4/20\n",
            "204/204 [==============================] - 98s 478ms/step - loss: 0.2870 - accuracy: 0.8894 - val_loss: 0.2860 - val_accuracy: 0.8895\n",
            "Epoch 5/20\n",
            "204/204 [==============================] - 98s 479ms/step - loss: 0.2615 - accuracy: 0.8999 - val_loss: 0.2310 - val_accuracy: 0.9075\n",
            "Epoch 6/20\n",
            "204/204 [==============================] - 97s 477ms/step - loss: 0.2328 - accuracy: 0.9103 - val_loss: 0.2224 - val_accuracy: 0.9185\n",
            "Epoch 7/20\n",
            "204/204 [==============================] - 97s 475ms/step - loss: 0.2047 - accuracy: 0.9217 - val_loss: 0.2931 - val_accuracy: 0.8935\n",
            "Epoch 8/20\n",
            "204/204 [==============================] - 104s 509ms/step - loss: 0.1849 - accuracy: 0.9293 - val_loss: 0.2077 - val_accuracy: 0.9225\n",
            "Epoch 9/20\n",
            "204/204 [==============================] - 98s 481ms/step - loss: 0.1680 - accuracy: 0.9363 - val_loss: 0.2069 - val_accuracy: 0.9275\n",
            "Epoch 10/20\n",
            "204/204 [==============================] - 97s 476ms/step - loss: 0.1515 - accuracy: 0.9405 - val_loss: 0.2336 - val_accuracy: 0.9155\n",
            "Epoch 11/20\n",
            "204/204 [==============================] - 97s 474ms/step - loss: 0.1424 - accuracy: 0.9474 - val_loss: 0.2641 - val_accuracy: 0.9095\n",
            "Epoch 12/20\n",
            "204/204 [==============================] - 95s 468ms/step - loss: 0.1341 - accuracy: 0.9513 - val_loss: 0.2235 - val_accuracy: 0.9210\n",
            "Epoch 13/20\n",
            "204/204 [==============================] - 97s 475ms/step - loss: 0.1210 - accuracy: 0.9555 - val_loss: 0.2376 - val_accuracy: 0.9165\n",
            "Epoch 14/20\n",
            "204/204 [==============================] - 98s 479ms/step - loss: 0.1134 - accuracy: 0.9575 - val_loss: 0.3284 - val_accuracy: 0.8915\n",
            "Epoch 15/20\n",
            "204/204 [==============================] - 98s 479ms/step - loss: 0.1145 - accuracy: 0.9586 - val_loss: 0.2062 - val_accuracy: 0.9290\n",
            "Epoch 16/20\n",
            "204/204 [==============================] - 99s 484ms/step - loss: 0.1001 - accuracy: 0.9649 - val_loss: 0.2284 - val_accuracy: 0.9215\n",
            "Epoch 17/20\n",
            "204/204 [==============================] - 98s 478ms/step - loss: 0.0997 - accuracy: 0.9660 - val_loss: 0.4105 - val_accuracy: 0.8345\n",
            "Epoch 18/20\n",
            "204/204 [==============================] - 98s 482ms/step - loss: 0.0920 - accuracy: 0.9658 - val_loss: 0.2476 - val_accuracy: 0.9245\n",
            "Epoch 19/20\n",
            "204/204 [==============================] - 97s 476ms/step - loss: 0.0938 - accuracy: 0.9668 - val_loss: 0.2297 - val_accuracy: 0.9210\n",
            "Epoch 20/20\n",
            "204/204 [==============================] - 97s 476ms/step - loss: 0.0800 - accuracy: 0.9692 - val_loss: 0.2213 - val_accuracy: 0.9230\n"
          ]
        },
        {
          "output_type": "execute_result",
          "data": {
            "text/plain": [
              "<keras.callbacks.History at 0x7f6094f05c90>"
            ]
          },
          "metadata": {},
          "execution_count": 6
        }
      ]
    },
    {
      "cell_type": "code",
      "source": [
        "import matplotlib.pyplot as plt\n",
        "history = model2.history\n",
        "print(history)\n",
        "plt.plot(history.history['accuracy'])\n",
        "plt.plot(history.history['val_accuracy'])\n",
        "plt.title('model accuracy')\n",
        "plt.ylabel('accuracy')\n",
        "plt.xlabel('epoch')\n",
        "plt.legend(['train', 'validation'], loc='upper left')\n",
        "plt.show()\n",
        "# summarize history for loss\n",
        "plt.plot(history.history['loss'])\n",
        "plt.plot(history.history['val_loss'])\n",
        "plt.title('model loss')\n",
        "plt.ylabel('loss')\n",
        "plt.xlabel('epoch')\n",
        "plt.legend(['train', 'test'], loc='upper left')\n",
        "plt.show()"
      ],
      "metadata": {
        "colab": {
          "base_uri": "https://localhost:8080/",
          "height": 590
        },
        "id": "O39j3I08X_Vj",
        "outputId": "e8566078-815a-4056-e361-fd607fe73bd7"
      },
      "execution_count": 7,
      "outputs": [
        {
          "output_type": "stream",
          "name": "stdout",
          "text": [
            "<keras.callbacks.History object at 0x7f6094f05c90>\n"
          ]
        },
        {
          "output_type": "display_data",
          "data": {
            "text/plain": [
              "<Figure size 432x288 with 1 Axes>"
            ],
            "image/png": "[encoded data removed]"
          },
          "metadata": {
            "needs_background": "light"
          }
        },
        {
          "output_type": "display_data",
          "data": {
            "text/plain": [
              "<Figure size 432x288 with 1 Axes>"
            ],
            "image/png": "[encoded data removed]"
          },
          "metadata": {
            "needs_background": "light"
          }
        }
      ]
    },
    {
      "cell_type": "code",
      "source": [
        "# Save the model\n",
        "model2.save('model1.hdf5')"
      ],
      "metadata": {
        "id": "70ODkVg4EDBe"
      },
      "execution_count": null,
      "outputs": []
    }
  ]
}